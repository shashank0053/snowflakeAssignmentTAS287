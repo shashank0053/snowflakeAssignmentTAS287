{
  "metadata": {
    "kernelspec": {
      "display_name": "Streamlit Notebook",
      "name": "streamlit"
    },
    "colab": {
      "provenance": []
    }
  },
  "nbformat_minor": 5,
  "nbformat": 4,
  "cells": [
    {
      "cell_type": "markdown",
      "id": "c0be824f-d411-4cc1-936b-83303675084f",
      "metadata": {
        "name": "cell5",
        "collapsed": false,
        "resultHeight": 41,
        "id": "c0be824f-d411-4cc1-936b-83303675084f"
      },
      "source": [
        "Creating secret object with github credentials"
      ]
    },
    {
      "cell_type": "markdown",
      "id": "2fdbc772-0624-4969-92a5-e35ab9a6133e",
      "metadata": {
        "name": "cell4",
        "collapsed": false,
        "resultHeight": 41,
        "id": "2fdbc772-0624-4969-92a5-e35ab9a6133e"
      },
      "source": [
        "Using the secret to create github api integration"
      ]
    },
    {
      "cell_type": "code",
      "id": "8d50cbf4-0c8d-4950-86cb-114990437ac9",
      "metadata": {
        "language": "sql",
        "name": "cell2",
        "resultHeight": 112,
        "id": "8d50cbf4-0c8d-4950-86cb-114990437ac9"
      },
      "source": [
        "CREATE OR REPLACE API INTEGRATION git_api_integration\n",
        "API_PROVIDER = git_https_api\n",
        "API_ALLOWED_PREFIXES = ('https://github.com')\n",
        "ALLOWED_AUTHENTICATION_SECRETS = (git_secret)\n",
        "ENABLED = TRUE"
      ],
      "execution_count": null,
      "outputs": []
    },
    {
      "cell_type": "markdown",
      "id": "1c7c0d0c-3b37-427e-9a0d-25181b4e9eca",
      "metadata": {
        "name": "cell6",
        "collapsed": false,
        "resultHeight": 41,
        "id": "1c7c0d0c-3b37-427e-9a0d-25181b4e9eca"
      },
      "source": [
        "Creating role hierarchy"
      ]
    },
    {
      "cell_type": "code",
      "id": "c695373e-ac74-4b62-a1f1-08206cbd5c81",
      "metadata": {
        "language": "sql",
        "name": "cell3",
        "resultHeight": 0,
        "id": "c695373e-ac74-4b62-a1f1-08206cbd5c81"
      },
      "source": [
        "CREATE ROLE ADMIN;\n",
        "CREATE ROLE DEVELOPER;\n",
        "CREATE ROLE PII;\n",
        "\n",
        "GRANT ROLE ACCOUNTADMIN TO ROLE ADMIN;\n",
        "GRANT ROLE ACCOUNTADMIN TO ROLE PII;\n",
        "GRANT ROLE ADMIN TO ROLE DEVELOPER;"
      ],
      "execution_count": null,
      "outputs": []
    },
    {
      "cell_type": "markdown",
      "id": "0fee1acc-9c65-4496-ba00-7698b2194439",
      "metadata": {
        "name": "cell7",
        "collapsed": false,
        "resultHeight": 41,
        "id": "0fee1acc-9c65-4496-ba00-7698b2194439"
      },
      "source": [
        "Switching to admin role"
      ]
    },
    {
      "cell_type": "code",
      "id": "1ee3ca7d-3a60-4a07-803d-f6794456a706",
      "metadata": {
        "language": "sql",
        "name": "cell8",
        "resultHeight": 0,
        "id": "1ee3ca7d-3a60-4a07-803d-f6794456a706"
      },
      "outputs": [],
      "source": [
        "GRANT ROLE ADMIN TO USER arjit8snowflake;\n",
        "GRANT ROLE PII TO USER arjit8snowflake;\n",
        "GRANT ROLE DEVELOPER TO USER arjit8snowflake;"
      ],
      "execution_count": null
    },
    {
      "cell_type": "markdown",
      "id": "bd5cfa79-8489-467b-80a7-6935493142f6",
      "metadata": {
        "name": "cell12",
        "collapsed": false,
        "resultHeight": 41,
        "id": "bd5cfa79-8489-467b-80a7-6935493142f6"
      },
      "source": [
        "Creating the schema of the table"
      ]
    },
    {
      "cell_type": "code",
      "id": "ec761730-901f-45b6-bb43-2524670a2ab3",
      "metadata": {
        "language": "sql",
        "name": "cell9",
        "resultHeight": 0,
        "id": "ec761730-901f-45b6-bb43-2524670a2ab3"
      },
      "outputs": [],
      "source": [
        "CREATE TABLE employees_csv (\n",
        "    EMPLOYEE_ID INT PRIMARY KEY,\n",
        "    FIRST_NAME VARCHAR(50),\n",
        "    LAST_NAME VARCHAR(50),\n",
        "    EMAIL VARCHAR(100),\n",
        "    PHONE_NUMBER VARCHAR(20),\n",
        "    HIRE_DATE DATE,\n",
        "    JOB_ID VARCHAR(10),\n",
        "    SALARY DECIMAL(10, 2),\n",
        "    COMMISSION_PCT DECIMAL(5, 2),\n",
        "    MANAGER_ID INT,\n",
        "    DEPARTMENT_ID INT,\n",
        "    ADDRESS VARCHAR(255)\n",
        ");"
      ],
      "execution_count": null
    },
    {
      "cell_type": "markdown",
      "id": "7abb3f9d-203c-443a-8392-5d0cefc39de0",
      "metadata": {
        "name": "cell21",
        "collapsed": false,
        "resultHeight": 41,
        "id": "7abb3f9d-203c-443a-8392-5d0cefc39de0"
      },
      "source": [
        "Creating the internal stage for employees data"
      ]
    },
    {
      "cell_type": "code",
      "id": "6be4b98e-406a-4312-9b22-caad9510412a",
      "metadata": {
        "language": "sql",
        "name": "cell18",
        "resultHeight": 112,
        "codeCollapsed": false,
        "id": "6be4b98e-406a-4312-9b22-caad9510412a"
      },
      "outputs": [],
      "source": [
        "CREATE OR REPLACE STAGE employees_data_int_stage;\n",
        "ls @employees_data_int_stage;\n",
        "\n",
        "-- PUT command to push data from local machine to snowflake stage using snowsql\n",
        "-- LINUX: - PUT 'file:///Users/your-username/Desktop/csvfiles/employees.csv' @employees_data_int_stg;\n",
        "-- WINDOWS: - PUT 'file://<your-drive-name>:/Users/<your-username>/Desktop/csvfiles/employees.csv"
      ],
      "execution_count": null
    },
    {
      "cell_type": "markdown",
      "id": "078f6b5d-7882-4241-a8e8-70d1840fa4cc",
      "metadata": {
        "name": "cell10",
        "collapsed": false,
        "resultHeight": 41,
        "id": "078f6b5d-7882-4241-a8e8-70d1840fa4cc"
      },
      "source": [
        "creating file format for the employees csv file"
      ]
    },
    {
      "cell_type": "code",
      "id": "142ac8c2-15cb-4b13-863b-8bc49b7924fc",
      "metadata": {
        "language": "sql",
        "name": "cell11",
        "resultHeight": 112,
        "id": "142ac8c2-15cb-4b13-863b-8bc49b7924fc"
      },
      "outputs": [],
      "source": [
        "CREATE OR REPLACE FILE FORMAT infer_csv_format\n",
        "TYPE = CSV\n",
        "COMPRESSION = GZIP\n",
        "FIELD_DELIMITER = ','\n",
        "PARSE_HEADER = TRUE\n",
        "DATE_FORMAT = 'YYYY-MM-DD'\n",
        "FIELD_OPTIONALLY_ENCLOSED_BY = '\"'"
      ],
      "execution_count": null
    },
    {
      "cell_type": "markdown",
      "id": "fe4fe03d-de99-49a8-a6e4-159b561a32dc",
      "metadata": {
        "name": "cell14",
        "collapsed": false,
        "resultHeight": 41,
        "id": "fe4fe03d-de99-49a8-a6e4-159b561a32dc"
      },
      "source": [
        "using the data from internal stage to infer schema"
      ]
    },
    {
      "cell_type": "code",
      "id": "e4002972-c12f-47e8-8d05-80d077154f66",
      "metadata": {
        "language": "sql",
        "name": "cell13",
        "resultHeight": 439,
        "id": "e4002972-c12f-47e8-8d05-80d077154f66"
      },
      "outputs": [],
      "source": [
        "SELECT * FROM TABLE(INFER_SCHEMA(\n",
        " LOCATION=>'@employees_data_int_stage/employees2.csv.gz'\n",
        " , FILE_FORMAT=>'infer_csv_format'));"
      ],
      "execution_count": null
    },
    {
      "cell_type": "markdown",
      "id": "c99fad46-955c-41f1-8556-e831bf5b20b7",
      "metadata": {
        "name": "cell16",
        "collapsed": false,
        "resultHeight": 41,
        "id": "c99fad46-955c-41f1-8556-e831bf5b20b7"
      },
      "source": [
        "Create table schema using template"
      ]
    },
    {
      "cell_type": "code",
      "id": "e6fa3408-bb59-4ec5-ab2a-fab18d17f336",
      "metadata": {
        "language": "sql",
        "name": "cell15",
        "resultHeight": 112,
        "id": "e6fa3408-bb59-4ec5-ab2a-fab18d17f336"
      },
      "outputs": [],
      "source": [
        "CREATE OR REPLACE TABLE employees_csv USING TEMPLATE (\n",
        "SELECT ARRAY_AGG(OBJECT_CONSTRUCT(*))\n",
        " WITHIN GROUP (ORDER BY ORDER_ID)\n",
        " FROM TABLE (INFER_SCHEMA(\n",
        " LOCATION=>'@employees_data_int_stage/employees2.csv.gz',\n",
        " FILE_FORMAT=>'infer_csv_format')));\n",
        "\n",
        " SELECT GET_DDL('table', 'employees_csv');"
      ],
      "execution_count": null
    },
    {
      "cell_type": "code",
      "id": "38da2bae-6c23-43f6-8f77-dd7a64fe5fb0",
      "metadata": {
        "language": "sql",
        "name": "cell42",
        "resultHeight": 112,
        "id": "38da2bae-6c23-43f6-8f77-dd7a64fe5fb0"
      },
      "outputs": [],
      "source": [
        "ALTER TABLE employees_csv ADD COLUMN elt_by VARCHAR(100);\n",
        "ALTER TABLE employees_csv ADD COLUMN elt_ts TIMESTAMP_LTZ;\n",
        "ALTER TABLE employees_csv ADD COLUMN file_name VARCHAR(100);\n",
        "\n",
        "\n",
        "-- ALTER TABLE employees_csv DROP COLUMN elt_by;\n",
        "-- ALTER TABLE employees_csv DROP COLUMN elt_ts;\n",
        "-- ALTER TABLE employees_csv DROP COLUMN file_name;"
      ],
      "execution_count": null
    },
    {
      "cell_type": "markdown",
      "id": "2a04a264-327f-4d75-a533-6983ded7224b",
      "metadata": {
        "name": "cell22",
        "collapsed": false,
        "resultHeight": 41,
        "id": "2a04a264-327f-4d75-a533-6983ded7224b"
      },
      "source": [
        "Copying data from employees csv file in internal stage to table"
      ]
    },
    {
      "cell_type": "code",
      "id": "31d762e0-32c0-48c8-ae2d-62ed6cbde526",
      "metadata": {
        "language": "sql",
        "name": "cell44",
        "resultHeight": 112,
        "id": "31d762e0-32c0-48c8-ae2d-62ed6cbde526"
      },
      "outputs": [],
      "source": [
        "CREATE OR REPLACE FILE FORMAT read_csv_format\n",
        "TYPE = CSV\n",
        "FIELD_DELIMITER = ','\n",
        "SKIP_HEADER = 1\n",
        "FIELD_OPTIONALLY_ENCLOSED_BY = '\"'\n",
        "EMPTY_FIELD_AS_NULL = TRUE"
      ],
      "execution_count": null
    },
    {
      "cell_type": "code",
      "id": "6ecf3b91-7dbf-4dde-b6a6-9c2a5deec90c",
      "metadata": {
        "language": "sql",
        "name": "cell17",
        "resultHeight": 112,
        "id": "6ecf3b91-7dbf-4dde-b6a6-9c2a5deec90c"
      },
      "outputs": [],
      "source": [
        "COPY INTO employees_csv (\n",
        "    EMPLOYEE_ID,\n",
        "\tFIRST_NAME,\n",
        "\tLAST_NAME,\n",
        "\tEMAIL,\n",
        "\tPHONE_NUMBER,\n",
        "\tHIRE_DATE,\n",
        "\tJOB_ID,\n",
        "\tSALARY,\n",
        "\tCOMMISSION_PCT,\n",
        "\tMANAGER_ID,\n",
        "\tDEPARTMENT_ID,\n",
        "\tADDRESS,\n",
        "    ELT_BY,\n",
        "    ELT_TS,\n",
        "    FILE_NAME\n",
        ")\n",
        "FROM (\n",
        "    SELECT $1, $2, $3, $4, $5, $6, $7, $8, $9, $10, $11, $12, 'my_app_name' AS ELT_BY, CURRENT_TIMESTAMP AS ELT_TS, METADATA$FILENAME AS FILE_NAME FROM '@employees_data_int_stage/employees2.csv.gz' (file_format => 'read_csv_format')\n",
        ")\n",
        "ON_ERROR = SKIP_FILE;"
      ],
      "execution_count": null
    },
    {
      "cell_type": "code",
      "id": "752d6d91-eca9-44a7-9f9a-e239be338637",
      "metadata": {
        "language": "sql",
        "name": "cell19",
        "resultHeight": 439,
        "id": "752d6d91-eca9-44a7-9f9a-e239be338637"
      },
      "outputs": [],
      "source": [
        "select * from employees_csv;"
      ],
      "execution_count": null
    },
    {
      "cell_type": "code",
      "id": "0bd7a858-3322-4085-9c0a-5085e4926b36",
      "metadata": {
        "language": "sql",
        "name": "cell20",
        "resultHeight": 112,
        "id": "0bd7a858-3322-4085-9c0a-5085e4926b36"
      },
      "outputs": [],
      "source": [
        "CREATE OR REPLACE TABLE employees_variant(\n",
        "employee_data VARIANT\n",
        ");"
      ],
      "execution_count": null
    },
    {
      "cell_type": "code",
      "id": "af7d580b-7d3f-41d9-bc15-bebaaf7c22fe",
      "metadata": {
        "language": "sql",
        "name": "cell23",
        "resultHeight": 112,
        "id": "af7d580b-7d3f-41d9-bc15-bebaaf7c22fe"
      },
      "outputs": [],
      "source": [
        "INSERT INTO employees_variant(\n",
        "SELECT TO_VARIANT(OBJECT_CONSTRUCT(*))\n",
        "FROM employees_csv\n",
        ");"
      ],
      "execution_count": null
    },
    {
      "cell_type": "code",
      "id": "46a2494f-42cb-4e0c-bc91-60c7b779fde9",
      "metadata": {
        "language": "sql",
        "name": "cell24",
        "resultHeight": 439,
        "id": "46a2494f-42cb-4e0c-bc91-60c7b779fde9"
      },
      "outputs": [],
      "source": [
        "SELECT * FROM employees_variant;"
      ],
      "execution_count": null
    },
    {
      "cell_type": "markdown",
      "id": "6ab39a70-fa84-46a0-835d-c8d37ea134b8",
      "metadata": {
        "name": "cell26",
        "collapsed": false,
        "resultHeight": 41,
        "id": "6ab39a70-fa84-46a0-835d-c8d37ea134b8"
      },
      "source": [
        "Creating storage integration with s3 bucket"
      ]
    },
    {
      "cell_type": "code",
      "id": "42716c58-3ebd-496b-9974-b6992abe5273",
      "metadata": {
        "language": "sql",
        "name": "cell25",
        "resultHeight": 357,
        "id": "42716c58-3ebd-496b-9974-b6992abe5273"
      },
      "outputs": [],
      "source": [
        "CREATE OR REPLACE STORAGE INTEGRATION s3_integration\n",
        "TYPE = EXTERNAL_STAGE\n",
        "STORAGE_PROVIDER = 'S3'\n",
        "STORAGE_AWS_ROLE_ARN = 'arn:aws:iam::615299733093:role/snowflake_assignment_role'\n",
        "ENABLED = TRUE\n",
        "STORAGE_ALLOWED_LOCATIONS = (\"s3://snowflake-sigmoid-bucket/\");\n",
        "\n",
        "DESCRIBE INTEGRATION s3_integration;"
      ],
      "execution_count": null
    },
    {
      "cell_type": "markdown",
      "id": "cc69cc21-3ed1-4417-9c1c-c7478b5fbd10",
      "metadata": {
        "name": "cell27",
        "collapsed": false,
        "resultHeight": 41,
        "id": "cc69cc21-3ed1-4417-9c1c-c7478b5fbd10"
      },
      "source": [
        "Creating External Stage for AWS S3 bucket data"
      ]
    },
    {
      "cell_type": "code",
      "id": "046e5806-3072-4483-be89-004481221b4b",
      "metadata": {
        "language": "sql",
        "name": "cell28",
        "resultHeight": 147,
        "id": "046e5806-3072-4483-be89-004481221b4b"
      },
      "outputs": [],
      "source": [
        "CREATE OR REPLACE STAGE employees_data_ext_stage\n",
        "URL = 's3://snowflake-sigmoid-bucket/'\n",
        "STORAGE_INTEGRATION = s3_integration;\n",
        "\n",
        "list @employees_data_ext_stage;"
      ],
      "execution_count": null
    },
    {
      "cell_type": "markdown",
      "id": "75f020b7-5550-4405-829c-50b4be56c9d8",
      "metadata": {
        "name": "cell30",
        "collapsed": false,
        "resultHeight": 41,
        "id": "75f020b7-5550-4405-829c-50b4be56c9d8"
      },
      "source": [
        "Creating schema for table to store external stage data"
      ]
    },
    {
      "cell_type": "code",
      "id": "7439d222-688c-40a6-a60d-1e7dfd33321f",
      "metadata": {
        "language": "sql",
        "name": "cell29",
        "resultHeight": 112,
        "id": "7439d222-688c-40a6-a60d-1e7dfd33321f"
      },
      "outputs": [],
      "source": [
        "CREATE OR REPLACE TABLE employees_external(\n",
        "\tEMPLOYEE_ID NUMBER(3,0),\n",
        "\tFIRST_NAME VARCHAR(16777216),\n",
        "\tLAST_NAME VARCHAR(16777216),\n",
        "\tEMAIL VARCHAR(16777216),\n",
        "\tPHONE_NUMBER VARCHAR(16777216),\n",
        "\tHIRE_DATE DATE,\n",
        "\tJOB_ID VARCHAR(16777216),\n",
        "\tSALARY NUMBER(5,0),\n",
        "\tCOMMISSION_PCT NUMBER(3,2),\n",
        "\tMANAGER_ID NUMBER(3,0),\n",
        "\tDEPARTMENT_ID NUMBER(3,0),\n",
        "\tADDRESS VARCHAR(16777216),\n",
        "    elt_by VARCHAR(100),\n",
        "    elt_ts TIMESTAMP_LTZ,\n",
        "    file_name varchar(100)\n",
        ");"
      ],
      "execution_count": null
    },
    {
      "cell_type": "code",
      "id": "3bc7acb1-ab3a-497c-b9f3-0186efcb6e14",
      "metadata": {
        "language": "sql",
        "name": "cell31",
        "resultHeight": 112,
        "id": "3bc7acb1-ab3a-497c-b9f3-0186efcb6e14"
      },
      "outputs": [],
      "source": [
        "COPY INTO employees_external\n",
        "FROM (\n",
        "    SELECT $1, $2, $3, $4, $5, $6, $7, $8, $9, $10, $11, $12, 'my_app_name' AS ELT_BY, CURRENT_TIMESTAMP AS ELT_TS, METADATA$FILENAME AS FILE_NAME FROM '@employees_data_int_stage/employees2.csv.gz'\n",
        ")\n",
        "FILE_FORMAT = (skip_header = 1, field_optionally_enclosed_by = '\"')\n",
        "ON_ERROR = SKIP_FILE;"
      ],
      "execution_count": null
    },
    {
      "cell_type": "code",
      "id": "aee73c28-dcc0-4757-966e-a6ffd9dce23b",
      "metadata": {
        "language": "sql",
        "name": "cell32",
        "resultHeight": 439,
        "id": "aee73c28-dcc0-4757-966e-a6ffd9dce23b"
      },
      "outputs": [],
      "source": [
        "SELECT * FROM employees_external;"
      ],
      "execution_count": null
    },
    {
      "cell_type": "markdown",
      "id": "0d169d35-3327-49eb-83b4-a79dd75f07a6",
      "metadata": {
        "name": "cell34",
        "collapsed": false,
        "resultHeight": 41,
        "id": "0d169d35-3327-49eb-83b4-a79dd75f07a6"
      },
      "source": [
        "Creating file format for the parquet file"
      ]
    },
    {
      "cell_type": "code",
      "id": "b5ffad54-0746-4623-939b-0e9533131e88",
      "metadata": {
        "language": "sql",
        "name": "cell33",
        "resultHeight": 112,
        "id": "b5ffad54-0746-4623-939b-0e9533131e88"
      },
      "outputs": [],
      "source": [
        "CREATE OR REPLACE FILE FORMAT infer_parquet_format\n",
        "TYPE = PARQUET\n",
        "COMPRESSION = AUTO\n",
        "USE_LOGICAL_TYPE = TRUE\n",
        "TRIM_SPACE = TRUE\n",
        "REPLACE_INVALID_CHARACTERS = TRUE\n",
        "NULL_IF = ( '\\N', 'NULL', 'NUL', '' );"
      ],
      "execution_count": null
    },
    {
      "cell_type": "code",
      "id": "00946023-8b9f-4101-b8b2-000bb1fa4c78",
      "metadata": {
        "language": "sql",
        "name": "cell35",
        "resultHeight": 439,
        "id": "00946023-8b9f-4101-b8b2-000bb1fa4c78"
      },
      "outputs": [],
      "source": [
        "SELECT * FROM TABLE(INFER_SCHEMA(\n",
        " LOCATION=>'@employees_data_ext_stage/titanic.parquet'\n",
        " , FILE_FORMAT=>'infer_parquet_format'\n",
        " , MAX_RECORDS_PER_FILE => 10));"
      ],
      "execution_count": null
    },
    {
      "cell_type": "code",
      "id": "2894ec27-585b-451d-8454-89c9e0127cca",
      "metadata": {
        "language": "sql",
        "name": "cell36",
        "resultHeight": 439,
        "id": "2894ec27-585b-451d-8454-89c9e0127cca"
      },
      "outputs": [],
      "source": [
        "SELECT *, 'my_app_name' AS ELT_BY, CURRENT_TIMESTAMP AS ELT_TS, METADATA$FILENAME AS FILE_NAME FROM '@employees_data_ext_stage/titanic.parquet' (FILE_FORMAT => infer_parquet_format);"
      ],
      "execution_count": null
    },
    {
      "cell_type": "markdown",
      "id": "0f68cd07-14f1-4661-aca5-1513d6f83b61",
      "metadata": {
        "name": "cell38",
        "collapsed": false,
        "resultHeight": 41,
        "id": "0f68cd07-14f1-4661-aca5-1513d6f83b61"
      },
      "source": [
        "Creating masking policy for PII columns like email, address, and phone number"
      ]
    },
    {
      "cell_type": "code",
      "id": "7af8b63c-0d74-4d1b-ba4d-8e34c826b47f",
      "metadata": {
        "language": "sql",
        "name": "cell37",
        "resultHeight": 112,
        "id": "7af8b63c-0d74-4d1b-ba4d-8e34c826b47f"
      },
      "outputs": [],
      "source": [
        "CREATE OR REPLACE MASKING POLICY pii_mask AS (val string) RETURNS string ->\n",
        "CASE\n",
        "    WHEN current_role() IN ('DEVELOPER') THEN '**masked**'\n",
        "    ELSE val\n",
        "END;"
      ],
      "execution_count": null
    },
    {
      "cell_type": "code",
      "id": "573397ea-8ce7-4935-bce7-37e014af81a8",
      "metadata": {
        "language": "sql",
        "name": "cell39",
        "resultHeight": 112,
        "id": "573397ea-8ce7-4935-bce7-37e014af81a8"
      },
      "outputs": [],
      "source": [
        "ALTER TABLE IF EXISTS employees_csv MODIFY COLUMN email SET MASKING POLICY pii_mask;\n",
        "ALTER TABLE IF EXISTS employees_csv MODIFY COLUMN address SET MASKING POLICY pii_mask;\n",
        "ALTER TABLE IF EXISTS employees_csv MODIFY COLUMN phone_number SET MASKING POLICY pii_mask\n"
      ],
      "execution_count": null
    },
    {
      "cell_type": "code",
      "id": "46995bc3-69a5-4421-b8b6-c07334aa32ea",
      "metadata": {
        "language": "sql",
        "name": "cell40",
        "resultHeight": 112,
        "id": "46995bc3-69a5-4421-b8b6-c07334aa32ea"
      },
      "outputs": [],
      "source": [
        "use role DEVELOPER;"
      ],
      "execution_count": null
    },
    {
      "cell_type": "code",
      "id": "e68b2a34-b50d-438b-a8af-352991df648d",
      "metadata": {
        "language": "sql",
        "name": "cell41",
        "resultHeight": 439,
        "id": "e68b2a34-b50d-438b-a8af-352991df648d"
      },
      "outputs": [],
      "source": [
        "SELECT * FROM employees_csv;"
      ],
      "execution_count": null
    }
  ]
}